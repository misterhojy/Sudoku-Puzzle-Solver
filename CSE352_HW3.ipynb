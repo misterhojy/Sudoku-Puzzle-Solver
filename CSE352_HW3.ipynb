{
  "cells": [
    {
      "cell_type": "markdown",
      "metadata": {
        "id": "-rnkCP9R2o_Z"
      },
      "source": [
        "# Introduction\n",
        "\n",
        "All student names in group: Dong Liang, Kevin Zheng, Hojat Jaffary\n",
        "\n",
        "I understand that my submission needs to be my own group's work: DL, KZ, HJ\n",
        "\n",
        "I understand that ChatGPT / Copilot / other AI tools are not allowed: DL, KZ, HJ\n",
        "\n",
        "Points: 10\n",
        "\n",
        "Complete this notebook and submit it (save/print as pdf). Make sure all output is correct in the pdf before submitting (it sometimes gets cut off). The notebook needs to be a complete project report with your implementation, documentation including a short discussion of how your implementation works and your design choices, and experimental results (e.g., tables and charts with simulation results) with a short discussion of what they mean. Use the provided notebook cells and insert additional code and markdown cells as needed."
      ]
    },
    {
      "cell_type": "markdown",
      "metadata": {
        "id": "wdtvm8lB2o_b"
      },
      "source": [
        "## Z3 and Z3py resources\n",
        "\n",
        "For this problem you will be solving constraint satisfaction and logic problems using the Z3 SMT solver via the z3py python library.\n",
        "\n",
        "The demo code using z3py we went over in class is here: [link](https://drive.google.com/drive/folders/16HQXiwdcaman1IpC7H6vSJ71QQQ-aL2z?usp=sharing)\n",
        "\n",
        "Online help for z3py is here: [link](https://ericpony.github.io/z3py-tutorial/guide-examples.htm)"
      ]
    },
    {
      "cell_type": "markdown",
      "metadata": {
        "id": "F6mYrFaM2o_b"
      },
      "source": [
        "## Installation\n",
        "\n",
        "We first install to get the z3solver library using pip and test that works."
      ]
    },
    {
      "cell_type": "code",
      "source": [
        "!pip install z3-solver"
      ],
      "metadata": {
        "id": "EoLs1AWw38Tj",
        "outputId": "d3adf20a-7ac9-4b6c-9355-9838b4dc6769",
        "colab": {
          "base_uri": "https://localhost:8080/"
        }
      },
      "execution_count": null,
      "outputs": [
        {
          "output_type": "stream",
          "name": "stdout",
          "text": [
            "Collecting z3-solver\n",
            "  Downloading z3_solver-4.13.0.0-py2.py3-none-manylinux2014_x86_64.whl (57.3 MB)\n",
            "\u001b[2K     \u001b[90m━━━━━━━━━━━━━━━━━━━━━━━━━━━━━━━━━━━━━━━━\u001b[0m \u001b[32m57.3/57.3 MB\u001b[0m \u001b[31m9.3 MB/s\u001b[0m eta \u001b[36m0:00:00\u001b[0m\n",
            "\u001b[?25h"
          ]
        }
      ]
    },
    {
      "cell_type": "code",
      "execution_count": null,
      "metadata": {
        "id": "xnQTztNX2o_c",
        "outputId": "d0a35e71-0d68-477d-922e-84ed0a96484d",
        "colab": {
          "base_uri": "https://localhost:8080/"
        }
      },
      "outputs": [
        {
          "output_type": "stream",
          "name": "stdout",
          "text": [
            "[y = 0, x = 7]\n"
          ]
        }
      ],
      "source": [
        "# Run the first example from the z3py guide as a test: https://ericpony.github.io/z3py-tutorial/guide-examples.htm\n",
        "from z3 import *\n",
        "\n",
        "x = Int('x')\n",
        "y = Int('y')\n",
        "solve(x > 2, y < 10, x + 2*y == 7)"
      ]
    },
    {
      "cell_type": "markdown",
      "source": [
        "# Sudoku as a constraint satisfaction problem (CSP)\n",
        "\n",
        "Sudoku is a popular number-placement puzzle that originated in France in the end of the 19th century.  Modern Sudoku was likely invented by Howard Garns from Connersville, Indiana and was first published in 1979 under the name *Number Place*. The objective of the puzzle is to place numbers 1-9 on a 9$\\times$9 grid, such that each number occurs only once in every row, every column, and every of the nine 3$\\times$3 sub-grids that compose the main grid.\n",
        "Sudoku puzzles are grids that have been partially occupied with numbers. The task is then to occupy the remaining fields in such a way that the constraints on rows, columns, and sub-grids are satisfied.\n",
        "For more information about Sudoku refer to its Wikipedia page at http://en.wikipedia.org/wiki/Sudoku.\n",
        "\n",
        "This problem has two parts. In the first part, you will write the boolean constraints in mathematical notation for solving a Sudoku puzzle. In the second part, you will write code and invoke the Z3 solver to solve the Sudoku instance and answer various questions about the solution.\n",
        "\n",
        "## Part 1 (Constraints)\n",
        "In text, define and write constraints over **boolean** variables corresponding to each number being in each cell. For example, you may use $X_{i,j}^k$ as teh variable that is true if and only if the number $k$ is in row $i$ and column $j$ (the variable is true if $k$ is in cell $(i, j)$ and false otherwise). Now write the following boolean constaints over these variables:\n",
        "\n",
        "* Write the boolean formula for the constraints that the number 5 can occur at most once in the first row. **(1 point)**\n",
        "* Write the boolean formula for the constraints that the number 6 can occur at most once in the first column. **(1 point)**\n",
        "* Write the boolean formula for the constraints that the number 9 can occur at most once in the top left 3$\\times$3 sub-grid. **(1 point)**"
      ],
      "metadata": {
        "id": "9J3lpQvP52jm"
      }
    },
    {
      "cell_type": "markdown",
      "source": [
        "Solution (Assuming 1-indexed):\n",
        "\n",
        "\n",
        "**Number 5 can occur at most once in the first row**\n",
        "\n",
        "- i must be in row 1. j is column 1 through 9. k must be 5, and in the formula we will get each distinct pair and both cannot be true as it will make the constraint false. At least one must be false\n",
        "- ~($X_{1,j}^5$ AND $X_{1,z}^5$), 1 $\\leq$ j $\\le$ z $\\leq$ 9 (all distinct pairs while j and z will not be equal)\n",
        "\n",
        "\n",
        "**Number 6 can occur at most once in the first column**\n",
        "\n",
        "- j must be in column 1. i is row 1 through 9. k must be 6, and in the formula we will get each distinct pair and both cannot be true as it will make the constraint false. At least one must be false\n",
        "- ~($X_{i,1}^6$ AND $X_{z,1}^6$), 1 $\\leq$ i $\\le$ z $\\leq$ 9 (all distinct pairs while j and z will not be equal)\n",
        "\n",
        "\n",
        "**Number 9 can occur at most once in the top left 3 × 3 sub-grid.**\n",
        "\n",
        "- i is row 1 through 3. j is column 1 through 3. k must be 9, an din the formula we will get each distinct pair of the entire 3 x 3 and make sure that there must be at least one false when comparing each of the positions.\n",
        "- ~($X_{i,j}^9$ AND $X_{k,l}^9$), 1 $\\leq$ i, j, k, l $\\leq$ 3. (i,j) $\\neq$ (k,l). Each pair in the 3x3 can not contain more than one 9\n"
      ],
      "metadata": {
        "id": "ju3Q1ewW7aeu"
      }
    },
    {
      "cell_type": "markdown",
      "source": [
        "## Part 2 (Coding)\n",
        "\n",
        "Encode the above constraints and all the other ones as a CSP using z3py and solve the Sudoku instance given in the figure below. **Use only boolean variables** and do not use the **Distinct** function.\n",
        "\n",
        "* Provide the code to solve that solves the given problem instance using z3py and only boolean variables. The code should output a reasonable visualization of the solution, for example printed in text. **(1 points)**\n",
        "\n",
        "<img src=\"https://raw.githubusercontent.com/stanleybak/CS7320-AI/master/Knowledge-based/sudoku1.jpg\" width=\"400\"/>\n",
        "\n"
      ],
      "metadata": {
        "id": "y7kArKLH7eOR"
      }
    },
    {
      "cell_type": "code",
      "source": [
        "# z3py code to solve above Sudoku goes here. Do not use Int(*), only Bool(*)\n",
        "from z3 import *\n",
        "\n",
        "s = Solver()\n",
        "\n",
        "# All possible combination of 9x9 matrix of Bool variables (row i, col j, value k-1) - 0-indexed\n",
        "X = [[[\n",
        "    Bool(\"cell_%s_%s_%s\"%(i, j, k))\n",
        "    for k in range(1, 10)]\n",
        "    for j in range(9)]\n",
        "    for i in range(9)]\n",
        "\n",
        "# Constraint: 1 number per cell\n",
        "valid_cell = [\n",
        "   Sum([If(X[i][j][k], 1, 0) for k in range(9)]) == 1\n",
        "   for j in range(9)\n",
        "   for i in range(9)\n",
        "]\n",
        "\n",
        "# Constraint: Distinct rows\n",
        "distinct_row = [\n",
        "    Not(And(X[i][c1][k], X[i][c2][k]))\n",
        "    for c1 in range(9)\n",
        "    for c2 in range(9) if(c2 != c1) # Don't check itself with itself\n",
        "    for i in range(9)\n",
        "    for k in range(9)\n",
        "]\n",
        "\n",
        "\n",
        "# Constraint: Distinct cols\n",
        "distinct_col = [\n",
        "    Not(And(X[r1][j][k], X[r2][j][k]))\n",
        "    for r1 in range(9)\n",
        "    for r2 in range(9) if (r2 != r1) # Don't check itself with itself\n",
        "    for j in range(9)\n",
        "    for k in range(9)\n",
        "]\n",
        "\n",
        "# Constraint: 3x3 no repeating digit\n",
        "distinct_3_by_3 = [\n",
        "    Not(And(X[i][j][k], X[3*int(i/3)+a][3*int(j/3)+b][k]))\n",
        "    for a in range(3)\n",
        "    for b in range(3)\n",
        "    for i in range(9)\n",
        "    for j in range(9)\n",
        "    for k in range(9)\n",
        "    if not (i == 3*int(i/3)+a and j == 3*int(j/3)+b)\n",
        "]\n",
        "\n",
        "\n",
        "# Sudoku instance (0s are empty cells)\n",
        "instance = (\n",
        "    (0,1,0,4,0,2,0,5,0),\n",
        "    (5,0,0,0,0,0,0,0,6),\n",
        "    (0,0,0,3,0,1,0,0,0),\n",
        "    (7,0,5,0,0,0,4,0,8),\n",
        "    (0,0,0,0,0,0,0,0,0),\n",
        "    (2,0,8,0,0,0,5,0,9),\n",
        "    (0,0,0,9,0,6,0,0,0),\n",
        "    (6,0,0,0,0,0,0,0,2),\n",
        "    (0,7,0,1,0,3,0,4,0)\n",
        ")\n",
        "\n",
        "# Constraint: Must copy given non-zero numbers from instance\n",
        "instance_c = [\n",
        "  If(instance[i][j] == 0, True, X[i][j][instance[i][j]-1]) for i in range(9) for j in range(9)\n",
        "]\n",
        "\n",
        "s.add(instance_c + valid_cell + distinct_row + distinct_col + distinct_3_by_3)\n",
        "\n",
        "# Function to construct 2-d array solution from a given model\n",
        "def construct_solution(model):\n",
        "  r = []\n",
        "  for i in range(9):\n",
        "    temp = []\n",
        "    for j in range(9):\n",
        "      for k in range(9):\n",
        "        if(model.evaluate(X[i][j][k])):\n",
        "          temp.append(k+1)\n",
        "    r.append(temp)\n",
        "  return r\n",
        "\n",
        "if s.check() == sat:\n",
        "    m = s.model()\n",
        "\n",
        "    # Construct the solution grid\n",
        "    r = construct_solution(m)\n",
        "\n",
        "    # Print the solved Sudoku grid\n",
        "    pp(r)\n",
        "else:\n",
        "  print(\"No Solution\")\n"
      ],
      "metadata": {
        "id": "UghnVSTS-kJi",
        "colab": {
          "base_uri": "https://localhost:8080/"
        },
        "outputId": "d3b7d6c3-863e-4062-f461-0658f8be9652"
      },
      "execution_count": null,
      "outputs": [
        {
          "output_type": "stream",
          "name": "stdout",
          "text": [
            "[[3, 1, 9, 4, 6, 2, 8, 5, 7],\n",
            " [5, 2, 4, 7, 9, 8, 1, 3, 6],\n",
            " [8, 6, 7, 3, 5, 1, 9, 2, 4],\n",
            " [7, 3, 5, 2, 1, 9, 4, 6, 8],\n",
            " [1, 9, 6, 8, 4, 5, 2, 7, 3],\n",
            " [2, 4, 8, 6, 3, 7, 5, 1, 9],\n",
            " [4, 5, 3, 9, 2, 6, 7, 8, 1],\n",
            " [6, 8, 1, 5, 7, 4, 3, 9, 2],\n",
            " [9, 7, 2, 1, 8, 3, 6, 4, 5]]\n"
          ]
        }
      ]
    },
    {
      "cell_type": "markdown",
      "source": [
        "### Uniqueness\n",
        "Is your solution unique? Prove it with a Z3py solver or provide a second solution. **(1 point)**"
      ],
      "metadata": {
        "id": "FIkg9eI38VMG"
      }
    },
    {
      "cell_type": "markdown",
      "source": [
        "To check if the solution is unique or not, in our code we will negate the first solution that is found. What this will do is make the code try to find another solution other than the first. If after the negation of the first solution, the program returns unsolvable this means that there is only 1 unique solution. If the program outputs another solution this means that the solution is not unique."
      ],
      "metadata": {
        "id": "LwUQj5KSYajZ"
      }
    },
    {
      "cell_type": "code",
      "source": [
        "# s is the previous solution\n",
        "new_s = Solver()\n",
        "new_x = [[[\n",
        "    Bool(\"cell_%s_%s_%s\"%(i, j, k))\n",
        "    for k in range(1, 10)]\n",
        "    for j in range(9)]\n",
        "    for i in range(9)]\n",
        "\n",
        "# Constraint: Exclude previous solution (stored in r)\n",
        "exclude_prev_solution = []\n",
        "for i in range(9):\n",
        "  for j in range(9):\n",
        "    exclude_prev_solution.append(X[i][j][r[i][j]-1] == False)\n",
        "\n",
        "new_s.add(instance_c + valid_cell + distinct_row + distinct_col + distinct_3_by_3 + exclude_prev_solution)\n",
        "if(new_s.check() == unsat):\n",
        "  print(\"No New Solution\")\n",
        "else:\n",
        "    # Construct the solution grid\n",
        "    r = construct_solution(m)\n",
        "\n",
        "    # Print the solved Sudoku grid\n",
        "    pp(r)"
      ],
      "metadata": {
        "id": "-ZacX6gz-4os",
        "colab": {
          "base_uri": "https://localhost:8080/"
        },
        "outputId": "f5596c46-e368-4b75-daaf-9a983cb482fa"
      },
      "execution_count": null,
      "outputs": [
        {
          "output_type": "stream",
          "name": "stdout",
          "text": [
            "No New Solution\n"
          ]
        }
      ]
    },
    {
      "cell_type": "markdown",
      "source": [
        "### More Uniqueness\n",
        "If you delete the 1 in the top left box of the Sudoku problem above, how many unique solutions are there? Hint: should be less than 5000. **(1 point)**"
      ],
      "metadata": {
        "id": "Z6a18s5x-5Hw"
      }
    },
    {
      "cell_type": "code",
      "source": [
        "# z3py code to solve above Sudoku goes here. Do not use Int(*), only Bool(*)\n",
        "from z3 import *\n",
        "\n",
        "# 9x9 matrix of Bool variables\n",
        "X = [[[\n",
        "    Bool(f\"x_{i}_{j}_{k}\")\n",
        "    for k in range(1, 10)]\n",
        "    for j in range(9)]\n",
        "    for i in range(9)]\n",
        "\n",
        "# Each cell contains a true bool\n",
        "cells_c = [\n",
        "    Or([X[i][j][k] for k in range(9)])\n",
        "    for i in range(9) for j in range(9)]\n",
        "\n",
        "# A cell contains 1 true boolean\n",
        "one_per_cell_c = [\n",
        "    Sum([If(X[i][j][k], 1, 0) for k in range(9)]) == 1\n",
        "    for i in range(9) for j in range(9)]\n",
        "\n",
        "# Each row contains a digit at most once\n",
        "rows_c = [\n",
        "    Or(Not(X[i][j][k]), Not(X[i][z][k]))\n",
        "    for i in range(9)\n",
        "    for k in range(9)\n",
        "    for j in range(9)\n",
        "    for z in range(j+1, 9)]\n",
        "\n",
        "# Each column contains a digit at most once\n",
        "cols_c = [\n",
        "    Or(Not(X[i][j][k]), Not(X[z][j][k]))\n",
        "    for j in range(9)\n",
        "    for k in range(9)\n",
        "    for i in range(9)\n",
        "    for z in range(i+1, 9)]\n",
        "\n",
        "# Each 3x3 square contains a digit at most once\n",
        "sq_c = [\n",
        "    Or(Not(X[3*i+m][3*j+n][k]), Not(X[3*i+p][3*j+q][k]))\n",
        "    for i in range(3)\n",
        "    for j in range(3)\n",
        "    for k in range(9)\n",
        "    for m in range(3) for n in range(3)\n",
        "    for p in range(3) for q in range(3)\n",
        "    if not (m == p and n == q)]\n",
        "\n",
        "sudoku_c = cells_c + one_per_cell_c + rows_c + cols_c + sq_c\n",
        "\n",
        "# Sudoku instance (0s are empty cells)\n",
        "instance = [\n",
        "    (0,0,0,4,0,2,0,5,0),\n",
        "    (5,0,0,0,0,0,0,0,6),\n",
        "    (0,0,0,3,0,1,0,0,0),\n",
        "    (7,0,5,0,0,0,4,0,8),\n",
        "    (0,0,0,0,0,0,0,0,0),\n",
        "    (2,0,8,0,0,0,5,0,9),\n",
        "    (0,0,0,9,0,6,0,0,0),\n",
        "    (6,0,0,0,0,0,0,0,2),\n",
        "    (0,7,0,1,0,3,0,4,0)\n",
        "]\n",
        "\n",
        "# instance constraints\n",
        "instance_c = [\n",
        "    If(instance[i][j] == 0,\n",
        "       True,  # constraint for 0 (empty cell)\n",
        "       X[i][j][instance[i][j] - 1])  # instance[i][j] is 1-based, list index is 0-based\n",
        "    for i in range(9) for j in range(9)]\n",
        "\n",
        "# Solve the puzzle\n",
        "s = Solver()\n",
        "s.add(sudoku_c + instance_c)\n",
        "count = 0\n",
        "while (s.check() == sat):\n",
        "    count += 1\n",
        "    m = s.model()\n",
        "    r = [\n",
        "        [sum([k+1 for k in range(9) if is_true(m.evaluate(X[i][j][k]))]) for j in range(9)]\n",
        "        for i in range(9)\n",
        "    ]\n",
        "\n",
        "    negate_first_solution = Or([\n",
        "        X[i][j][int(r[i][j])-1] == False\n",
        "        for i in range(9)\n",
        "        for j in range(9)\n",
        "    ])\n",
        "    s.add(negate_first_solution)\n",
        "\n",
        "print(\"Total amount of solutions: \", count)\n",
        "\n"
      ],
      "metadata": {
        "id": "5_2fNgND_CB4",
        "colab": {
          "base_uri": "https://localhost:8080/"
        },
        "outputId": "f0d661cd-57f0-44c0-a1c6-22b7a9a37b60"
      },
      "execution_count": null,
      "outputs": [
        {
          "output_type": "stream",
          "name": "stdout",
          "text": [
            "Total amount of solutions:  200\n"
          ]
        }
      ]
    },
    {
      "cell_type": "markdown",
      "source": [
        "# Miracle Sudoku\n",
        "\n",
        "Using z3py and only boolean variables, solve the Miracle Sudoku ([spoiler](https://www.youtube.com/watch?v=yKf9aUIxdb4)).\n",
        "In this puzzle normal Sudoku rules apply in addition to the following rules:\n",
        "* Any two cells separated by a knight's move from chess (moving forward two boxes and over one, in any direction) cannot contain the same digit (see image below).\n",
        "* Any two cells separated by a king's move from chess (one box in any direction including diagonals) cannot contain the same digit.\n",
        "* Any two orthogonally adjacent (up, down, left, or right) cells cannot contain consecutive digits."
      ],
      "metadata": {
        "id": "6nF9g7Ca_SJ1"
      }
    },
    {
      "cell_type": "markdown",
      "source": [
        "### Knight's move constraint image\n",
        "<img src=\"https://raw.githubusercontent.com/stanleybak/CS7320-AI/master/Knowledge-based/knights.jpg\" width=\"400\"/>\n",
        "\n",
        "The knight's move constraint would mean the yellow boxes cannot contain a 1.\n"
      ],
      "metadata": {
        "id": "wwjCVYCiAKXq"
      }
    },
    {
      "cell_type": "markdown",
      "source": [
        "## Miracle Sudoku Starting Information\n",
        "Provide the code to solve the puzzle given below. The code should output a reasonable visualization of the solution, for example using text. **(2 points)**\n",
        "\n",
        "<img src=\"https://raw.githubusercontent.com/stanleybak/CS7320-AI/master/Knowledge-based/miracle.jpg\" width=\"400\"/>"
      ],
      "metadata": {
        "id": "S9P6BThtAMv3"
      }
    },
    {
      "cell_type": "code",
      "source": [
        "# Solution code for Miracle Sudoku using z3py\n",
        "from z3 import *\n",
        "miracle_x = [[[\n",
        "    Bool(\"cell_%s_%s_%s\"%(i, j, k))\n",
        "    for k in range(1, 10)]\n",
        "    for j in range(9)]\n",
        "    for i in range(9)]\n",
        "\n",
        "# Knight's constraint\n",
        "knight_constraint = []\n",
        "for i in range(9):\n",
        "  for j in range(9):\n",
        "    for k in range(9):\n",
        "      if(i-2>=0 and j-1>=0): # check 2 up, 1 left\n",
        "        knight_constraint.append(If(X[i][j][k] == True, X[i-2][j-1][k] == False, True))\n",
        "      if(i-2>=0 and j+1<=8): # check 2 up, 1 right\n",
        "        knight_constraint.append(If(X[i][j][k] == True, X[i-2][j+1][k] == False, True))\n",
        "      if(i+2<=8 and j-1>=0): # check 2 down, 1 left\n",
        "        knight_constraint.append(If(X[i][j][k] == True, X[i+2][j-1][k] == False, True))\n",
        "      if(i+2<=8 and j+1<=8): # check 2 down, 1 right\n",
        "        knight_constraint.append(If(X[i][j][k] == True, X[i+2][j+1][k] == False, True))\n",
        "      if(i-1>=0 and j-2>=0): # check 1 up, 2 left\n",
        "        knight_constraint.append(If(X[i][j][k] == True, X[i-1][j-2][k] == False, True))\n",
        "      if(i-1>=0 and j+2<=8): # check 1 up, 2 right\n",
        "        knight_constraint.append(If(X[i][j][k] == True, X[i-1][j+2][k] == False, True))\n",
        "      if(i+1<=8 and j-2>=0): # check 1 down, 2 left\n",
        "        knight_constraint.append(If(X[i][j][k] == True, X[i+1][j-2][k] == False, True))\n",
        "      if(i+1<=8 and j+2<=8): # check 1 down, 2 right\n",
        "        knight_constraint.append(If(X[i][j][k] == True, X[i+1][j+2][k] == False, True))\n",
        "\n",
        "# King's Constraint, *Note: we only need to check for diagonal as normal sudoku rules covers adjacent squares\n",
        "king_constraint = []\n",
        "for i in range(9):\n",
        "  for j in range(9):\n",
        "    for k in range(9):\n",
        "      if(i-1>=0 and j-1>=0): # check 1 up, 1 left\n",
        "        king_constraint.append(If(X[i][j][k] == True, X[i-1][j-1][k] == False, True))\n",
        "      if(i-1>=0 and j+1<=8): # check 2 up, 1 right\n",
        "        king_constraint.append(If(X[i][j][k] == True, X[i-1][j+1][k] == False, True))\n",
        "      if(i+1<=8 and j-1>=0): # check 2 down, 1 left\n",
        "        king_constraint.append(If(X[i][j][k] == True, X[i+1][j-1][k] == False, True))\n",
        "      if(i+1<=8 and j+1<=8): # check 2 down, 1 right\n",
        "        king_constraint.append(If(X[i][j][k] == True, X[i+1][j+1][k] == False, True))\n",
        "\n",
        "orthogonal_constraint = []\n",
        "for i in range(9):\n",
        "  for j in range(9):\n",
        "    for k in range(9):\n",
        "      if(k+1<=8 and i-1>=0): # check 1 up, if up = current + 1\n",
        "        king_constraint.append(If(X[i][j][k] == True, X[i-1][j][k+1] == False, True))\n",
        "      if(k-1>=0 and i-1>=0): # check 1 up, if up = current - 1\n",
        "        king_constraint.append(If(X[i][j][k] == True, X[i-1][j][k-1] == False, True))\n",
        "      if(k+1<=8 and i+1<=8): # check 1 down, if up = current + 1\n",
        "        king_constraint.append(If(X[i][j][k] == True, X[i+1][j][k+1] == False, True))\n",
        "      if(k-1>=0 and i+1<=8): # check 1 down, if up = current - 1\n",
        "        king_constraint.append(If(X[i][j][k] == True, X[i+1][j][k] == False, True))\n",
        "      if(k+1<=8 and j-1<=8): # check 1 left, if left = current + 1\n",
        "        king_constraint.append(If(X[i][j][k] == True, X[i][j-1][k+1] == False, True))\n",
        "      if(k-1>=0 and j-1<=8): # check 1 left, if left = current - 1\n",
        "        king_constraint.append(If(X[i][j][k] == True, X[i][j-1][k-1] == False, True))\n",
        "      if(k+1<=8 and j+1<=8): # check 1 right, if right = current + 1\n",
        "        king_constraint.append(If(X[i][j][k] == True, X[i][j+1][k+1] == False, True))\n",
        "      if(k-1>=0 and j+1<=8): # check 1 right, 1 right\n",
        "        king_constraint.append(If(X[i][j][k] == True, X[i][j+1][k-1] == False, True))\n",
        "\n",
        "# Sudoku instance (0s are empty cells)\n",
        "instance = (\n",
        "    (0,0,0,0,0,0,0,0,0),\n",
        "    (0,0,0,0,0,0,0,0,0),\n",
        "    (0,0,0,0,0,0,0,0,0),\n",
        "    (0,0,0,0,0,0,0,0,0),\n",
        "    (0,0,1,0,0,0,0,0,0),\n",
        "    (0,0,0,0,0,0,2,0,0),\n",
        "    (0,0,0,0,0,0,0,0,0),\n",
        "    (0,0,0,0,0,0,0,0,0),\n",
        "    (0,0,0,0,0,0,0,0,0)\n",
        ")\n",
        "\n",
        "# instance constraints\n",
        "instance_miracle_constraint = [\n",
        "    If(instance[i][j] == 0,\n",
        "       True,  # constraint for 0 (empty cell)\n",
        "       X[i][j][instance[i][j] - 1])  # instance[i][j] is 1-based, list index is 0-based\n",
        "    for i in range(9) for j in range(9)]\n",
        "\n",
        "\n",
        "miracle_s = Solver()\n",
        "miracle_s.add(valid_cell + distinct_row + distinct_col + distinct_3_by_3 + knight_constraint + king_constraint + orthogonal_constraint + instance_miracle_constraint)\n",
        "if(miracle_s.check() == unsat):\n",
        "  print(\"No New Solution\")\n",
        "else:\n",
        "    miracle_m = miracle_s.model()\n",
        "    # Construct the solution grid\n",
        "    r = construct_solution(miracle_m)\n",
        "\n",
        "    # Print the solved Sudoku grid\n",
        "    pp(r)"
      ],
      "metadata": {
        "id": "E56fFoT7CqpY",
        "colab": {
          "base_uri": "https://localhost:8080/"
        },
        "outputId": "067b30a9-783d-405c-9357-e4f6dc32c13e"
      },
      "execution_count": null,
      "outputs": [
        {
          "output_type": "stream",
          "name": "stdout",
          "text": [
            "[[4, 8, 3, 7, 2, 6, 1, 5, 9],\n",
            " [7, 2, 6, 1, 5, 9, 4, 8, 3],\n",
            " [1, 5, 9, 4, 8, 3, 7, 2, 6],\n",
            " [8, 3, 7, 2, 6, 1, 5, 9, 4],\n",
            " [2, 6, 1, 5, 9, 4, 8, 3, 7],\n",
            " [5, 9, 4, 8, 3, 7, 2, 6, 1],\n",
            " [3, 7, 2, 6, 1, 5, 9, 4, 8],\n",
            " [6, 1, 5, 9, 4, 8, 3, 7, 2],\n",
            " [9, 4, 8, 3, 7, 2, 6, 1, 5]]\n"
          ]
        }
      ]
    },
    {
      "cell_type": "markdown",
      "source": [
        "\n",
        "\n",
        "---\n",
        "\n",
        "\n",
        "# Propositional Logic\n",
        "\n",
        "Next, we will use truth tables and z3py to prove logical entailment.\n",
        "\n",
        "## Truth Tables\n",
        "\n",
        "Using markdown tables and bold to show relevant rows, use the truth table method to show logical truths.\n",
        "\n",
        "\n",
        "### Example\n",
        "\n",
        "Here's an example that shows $p, p \\rightarrow q \\models q$.  \n",
        "\n",
        "| p | q | p -> q |\n",
        "|-------|-------|---------------------|\n",
        "| **T**     | **T**     | **T**                   |\n",
        "| T     | F     | F                   |\n",
        "| F     | T     | T                   |\n",
        "| F     | F     | T                   |\n",
        "\n",
        "Since $q$ is true whenever $p$ and $p \\rightarrow q$ are true, the expression is true.\n",
        "\n",
        "### Questions\n",
        "\n",
        "Prove that the following semantic entailment expressions are true by using the truth table approach.  Bold the appropriate rows **(1 point)**\n",
        "\n",
        " * $(p\\rightarrow q)\\rightarrow r, s \\rightarrow \\neg p, t, \\neg s, t \\rightarrow q \\models r$\n",
        " * $\\emptyset \\models q \\rightarrow (p \\rightarrow (p \\rightarrow (q \\rightarrow p)))$"
      ],
      "metadata": {
        "id": "sy985abkCrfR"
      }
    },
    {
      "cell_type": "markdown",
      "source": [
        "Table only including when r is false to avoid it from being too large\n",
        "\n",
        "Entailment 1\n",
        "\n",
        "| p | q | r | s | t | ~p | ~s | t->q | s->~p | p->q | (p->q)->r |\n",
        "|---|---|---|---|---|----|----|------|-------|------|-----------|\n",
        "| T | T | F | T | T |  F | F  |  T   |   F   |  T   |    F      |\n",
        "| T | T | F | T | F |  F | F  |  T   |   F   |  T   |    F      |\n",
        "| T | T | F | F | T |  F | T  |  T   |   T   |  T   |    F      |\n",
        "| T | T | F | F | F |  F | T  |  T   |   T   |  T   |    F      |\n",
        "| T | F | F | T | T |  F | F  |  F   |   F   |  F   |    T      |\n",
        "| T | F | F | T | F |  F | F  |  T   |   F   |  F   |    T      |\n",
        "| T | F | F | F | T |  F | T  |  F   |   T   |  F   |    T      |\n",
        "| T | F | F | F | F |  F | T  |  T   |   T   |  F   |    T      |\n",
        "| F | T | F | T | T |  T | F  |  T   |   T   |  T   |    F      |\n",
        "| F | T | F | T | F |  T | F  |  T   |   T   |  T   |    F      |\n",
        "| F | T | F | F | T |  T | T  |  T   |   T   |  T   |    F      |\n",
        "| F | T | F | F | F |  T | T  |  T   |   T   |  T   |    F      |\n",
        "| F | F | F | T | T |  T | F  |  F   |   T   |  T   |    F      |\n",
        "| F | F | F | T | F |  T | F  |  T   |   T   |  T   |    F      |\n",
        "| F | F | F | F | T |  T | T  |  F   |   T   |  T   |    F      |\n",
        "| F | F | F | F | F |  T | T  |  T   |   T   |  T   |    F      |  \n",
        "\n",
        "Entailment 2\n",
        "\n",
        "| p | q | (q->p) | p->(q->p) | p->(p->(q->p)) | q->(p->(p->(q->p))) |\n",
        "|---|---|--------|-----------|----------------|---------------------|\n",
        "| T | T |   T    |     T     |       T        |          T          |\n",
        "| T | F |   T    |     T     |       T        |          T          |\n",
        "| F | T |   F    |     T     |       T        |          T          |\n",
        "| F | F |   T    |     T     |       T        |          T          |\n",
        "\n",
        "Since the right hand side is always true, it doesn't matter what the left hand\n",
        "expression is.\n",
        "\n",
        "\n",
        " ## Logical Entailment using z3py\n",
        "\n",
        " Use Z3py to prove the above two entailments are true using satisfiability. See section 7.5 in the book for details. **(1 point)**"
      ],
      "metadata": {
        "id": "q7le6n2jFu4l"
      }
    },
    {
      "cell_type": "code",
      "source": [
        "# Create Boolean Constants\n",
        "p = Bool('p')\n",
        "q = Bool('q')\n",
        "r = Bool('r')\n",
        "s = Bool('s')\n",
        "t = Bool('t')\n",
        "\n",
        "# Encode the constraints for the first part\n",
        "constraints_1 = [\n",
        "    Implies(Implies(p, q), r),\n",
        "    Implies(s, Not(p)),\n",
        "    t,\n",
        "    Not(s),\n",
        "    Implies(t, q)\n",
        "]\n",
        "\n",
        "# Expression for first part\n",
        "expression_1 = And(constraints_1)\n",
        "\n",
        "# Function to prove first entailment\n",
        "def prove_1(f):\n",
        "  s = Solver()\n",
        "  s.add((If(r == False, f == True, True)) == False)\n",
        "  if s.check() == sat:\n",
        "      return \"proved\"\n",
        "  else:\n",
        "      return \"not proved\"\n",
        "\n",
        "\n",
        "# Encode the constraints for the second part\n",
        "constraints_2 = [\n",
        "    Implies(q, Implies(p, Implies(p, Implies(q, p))))\n",
        "]\n",
        "\n",
        "# Expression for second part\n",
        "expression_2 = And(constraints_2)\n",
        "\n",
        "# Function to prove second entailment\n",
        "def prove_2(f):\n",
        "  s = Solver()\n",
        "  s.add(If(And(p == True, q == True), expression_2, True))\n",
        "  s.add(If(And(p == True, q == False), expression_2, True))\n",
        "  s.add(If(And(p == False, q == True), expression_2, True))\n",
        "  s.add(If(And(p == False, q == False), expression_2, True))\n",
        "  if s.check() == sat:\n",
        "      return \"proved\"\n",
        "  else:\n",
        "      return \"not proved\"\n",
        "\n",
        "print(\"Expression 1 is\", prove_1(expression_1))\n",
        "print(\"Expression 2 is\", prove_2(expression_2))"
      ],
      "metadata": {
        "id": "Z80-O6FGDtjp",
        "colab": {
          "base_uri": "https://localhost:8080/"
        },
        "outputId": "4f573ac5-b10c-48f1-e47d-dbe4826d9d8a"
      },
      "execution_count": null,
      "outputs": [
        {
          "output_type": "stream",
          "name": "stdout",
          "text": [
            "Expression 1 is proved\n",
            "Expression 2 is proved\n"
          ]
        }
      ]
    },
    {
      "cell_type": "code",
      "source": [
        "# test"
      ],
      "metadata": {
        "id": "ujiEQJiW54ir"
      },
      "execution_count": null,
      "outputs": []
    },
    {
      "cell_type": "code",
      "source": [
        "# test"
      ],
      "metadata": {
        "id": "JUlpR9QB57YS"
      },
      "execution_count": null,
      "outputs": []
    },
    {
      "cell_type": "code",
      "source": [
        "# test"
      ],
      "metadata": {
        "id": "Y6S5u6br57cm"
      },
      "execution_count": null,
      "outputs": []
    },
    {
      "cell_type": "code",
      "source": [
        "# test"
      ],
      "metadata": {
        "id": "7f5s2Kjt57e9"
      },
      "execution_count": null,
      "outputs": []
    },
    {
      "cell_type": "code",
      "source": [
        "# test"
      ],
      "metadata": {
        "id": "V0bjz2aa57hq"
      },
      "execution_count": null,
      "outputs": []
    },
    {
      "cell_type": "code",
      "source": [
        "# test"
      ],
      "metadata": {
        "id": "D-nm_l2J57j3"
      },
      "execution_count": null,
      "outputs": []
    },
    {
      "cell_type": "code",
      "source": [
        "# test"
      ],
      "metadata": {
        "id": "XLpxq9Tx5-PK"
      },
      "execution_count": null,
      "outputs": []
    },
    {
      "cell_type": "code",
      "source": [
        "# test"
      ],
      "metadata": {
        "id": "RTGTu2uZ5-Rj"
      },
      "execution_count": null,
      "outputs": []
    },
    {
      "cell_type": "code",
      "source": [
        "# test"
      ],
      "metadata": {
        "id": "-7MofQwu5-T7"
      },
      "execution_count": null,
      "outputs": []
    },
    {
      "cell_type": "code",
      "source": [
        "# test"
      ],
      "metadata": {
        "id": "Kh4I5_Vn5-WW"
      },
      "execution_count": null,
      "outputs": []
    },
    {
      "cell_type": "code",
      "source": [
        "# test"
      ],
      "metadata": {
        "id": "kN7oZbR45-Zv"
      },
      "execution_count": null,
      "outputs": []
    },
    {
      "cell_type": "code",
      "source": [
        "# test"
      ],
      "metadata": {
        "id": "ILm4MF8W5-cJ"
      },
      "execution_count": null,
      "outputs": []
    },
    {
      "cell_type": "code",
      "source": [
        "# test"
      ],
      "metadata": {
        "id": "OOvVuySa5-g8"
      },
      "execution_count": null,
      "outputs": []
    },
    {
      "cell_type": "code",
      "source": [
        "# test"
      ],
      "metadata": {
        "id": "xQ7lenYn6A9V"
      },
      "execution_count": null,
      "outputs": []
    },
    {
      "cell_type": "code",
      "source": [
        "# test"
      ],
      "metadata": {
        "id": "FNEbcMDs6BAf"
      },
      "execution_count": null,
      "outputs": []
    },
    {
      "cell_type": "code",
      "source": [
        "# test"
      ],
      "metadata": {
        "id": "FqrBAZHh6BEO"
      },
      "execution_count": null,
      "outputs": []
    },
    {
      "cell_type": "code",
      "source": [
        "# test"
      ],
      "metadata": {
        "id": "dM8QtDqi6BMV"
      },
      "execution_count": null,
      "outputs": []
    },
    {
      "cell_type": "code",
      "source": [
        "# test"
      ],
      "metadata": {
        "id": "QmBI7vhd6BNJ"
      },
      "execution_count": null,
      "outputs": []
    },
    {
      "cell_type": "code",
      "source": [
        "# test"
      ],
      "metadata": {
        "id": "E_NRP3J66BN8"
      },
      "execution_count": null,
      "outputs": []
    },
    {
      "cell_type": "code",
      "source": [
        "# test"
      ],
      "metadata": {
        "id": "WPCNWGwZ6BPM"
      },
      "execution_count": null,
      "outputs": []
    },
    {
      "cell_type": "code",
      "source": [
        "# test"
      ],
      "metadata": {
        "id": "DHw8XPwW6BQJ"
      },
      "execution_count": null,
      "outputs": []
    },
    {
      "cell_type": "code",
      "source": [
        "# test"
      ],
      "metadata": {
        "id": "g0-gA5-76BQ8"
      },
      "execution_count": null,
      "outputs": []
    },
    {
      "cell_type": "code",
      "source": [
        "# test"
      ],
      "metadata": {
        "id": "hg6-jU7m6BSG"
      },
      "execution_count": null,
      "outputs": []
    },
    {
      "cell_type": "code",
      "source": [
        "# test"
      ],
      "metadata": {
        "id": "wU0NquNj6BTy"
      },
      "execution_count": null,
      "outputs": []
    },
    {
      "cell_type": "code",
      "source": [
        "# test"
      ],
      "metadata": {
        "id": "w8BsIaOa6BVd"
      },
      "execution_count": null,
      "outputs": []
    },
    {
      "cell_type": "code",
      "source": [
        "# test"
      ],
      "metadata": {
        "id": "NnrbLBce6BWO"
      },
      "execution_count": null,
      "outputs": []
    },
    {
      "cell_type": "code",
      "source": [
        "# test"
      ],
      "metadata": {
        "id": "_4-AEDQv6BXH"
      },
      "execution_count": null,
      "outputs": []
    },
    {
      "cell_type": "code",
      "source": [
        "# test"
      ],
      "metadata": {
        "id": "8rEpIZHM6BYI"
      },
      "execution_count": null,
      "outputs": []
    },
    {
      "cell_type": "code",
      "source": [
        "# test"
      ],
      "metadata": {
        "id": "HC7LSBd86BZC"
      },
      "execution_count": null,
      "outputs": []
    },
    {
      "cell_type": "code",
      "source": [
        "# test"
      ],
      "metadata": {
        "id": "P1cpbmmV6BaE"
      },
      "execution_count": null,
      "outputs": []
    },
    {
      "cell_type": "code",
      "source": [
        "# test"
      ],
      "metadata": {
        "id": "IWOcD0Us6Ba5"
      },
      "execution_count": null,
      "outputs": []
    },
    {
      "cell_type": "code",
      "source": [
        "# test"
      ],
      "metadata": {
        "id": "TbVjmFqa6Bb1"
      },
      "execution_count": null,
      "outputs": []
    },
    {
      "cell_type": "code",
      "source": [
        "# test"
      ],
      "metadata": {
        "id": "yqQ5uZPf6Bc6"
      },
      "execution_count": null,
      "outputs": []
    }
  ],
  "metadata": {
    "kernelspec": {
      "display_name": "Python 3",
      "language": "python",
      "name": "python3"
    },
    "language_info": {
      "codemirror_mode": {
        "name": "ipython",
        "version": 3
      },
      "file_extension": ".py",
      "mimetype": "text/x-python",
      "name": "python",
      "nbconvert_exporter": "python",
      "pygments_lexer": "ipython3",
      "version": "3.8.5"
    },
    "colab": {
      "provenance": []
    }
  },
  "nbformat": 4,
  "nbformat_minor": 0
}